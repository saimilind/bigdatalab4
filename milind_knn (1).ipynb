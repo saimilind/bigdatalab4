{
 "cells": [
  {
   "cell_type": "code",
   "execution_count": null,
   "id": "a1f3b5f5",
   "metadata": {},
   "outputs": [],
   "source": [
    "!pip install pyspark"
   ]
  },
  {
   "cell_type": "code",
   "execution_count": null,
   "id": "d9fd34e6",
   "metadata": {},
   "outputs": [],
   "source": [
    "from pyspark.sql import SparkSession\n",
    "\n",
    "# Initialize Spark session\n",
    "spark = SparkSession.builder.appName(\"TitanicKNN\").getOrCreate()\n",
    "\n",
    "# Load data\n",
    "train_data = spark.read.csv(\"/Users/saimilind/Desktop/MLAssignments/titanicdataset.csv\", header=True, inferSchema=True)\n",
    "\n",
    "train_data.printSchema()\n",
    "train_data.show(5)"
   ]
  },
  {
   "cell_type": "code",
   "execution_count": null,
   "id": "d307665e",
   "metadata": {},
   "outputs": [],
   "source": []
  },
  {
   "cell_type": "code",
   "execution_count": null,
   "id": "98012383",
   "metadata": {},
   "outputs": [],
   "source": []
  },
  {
   "cell_type": "code",
   "execution_count": null,
   "id": "ade34617",
   "metadata": {},
   "outputs": [],
   "source": []
  },
  {
   "cell_type": "code",
   "execution_count": null,
   "id": "5c7a7166",
   "metadata": {},
   "outputs": [],
   "source": [
    "import pandas as pd\n",
    "import numpy as np\n",
    "import matplotlib.pyplot as plt\n",
    "from sklearn.model_selection import train_test_split, cross_val_score\n",
    "from sklearn.neighbors import KNeighborsClassifier\n",
    "from sklearn.preprocessing import StandardScaler\n",
    "from sklearn.metrics import confusion_matrix, plot_confusion_matrix\n",
    "from sklearn.datasets import fetch_openml\n",
    "\n",
    "# Load the Titanic dataset\n",
    "titanic = fetch_openml(name='titanic', version=1, as_frame=True)\n",
    "df = titanic.frame\n",
    "df"
   ]
  },
  {
   "cell_type": "code",
   "execution_count": null,
   "id": "b5298018",
   "metadata": {},
   "outputs": [],
   "source": [
    "\n",
    "# Drop rows with missing target values\n",
    "df = df.dropna(subset=[\"survived\"])\n",
    "\n",
    "# Select relevant features and label\n",
    "feature_cols = ['pclass', 'age', 'sibsp', 'parch', 'fare']\n",
    "X = df[feature_cols]\n",
    "y = df['survived']\n",
    "\n",
    "# Split the dataset into training and testing sets\n",
    "X_train, X_test, y_train, y_test = train_test_split(X, y, test_size=0.2, random_state=42)"
   ]
  },
  {
   "cell_type": "code",
   "execution_count": null,
   "id": "648d5a54",
   "metadata": {},
   "outputs": [],
   "source": [
    "\n",
    "# Write standard scaler from scratch\n",
    "def custom_standard_scaler(X):\n",
    "    mean = np.mean(X, axis=0)\n",
    "    std = np.std(X, axis=0)\n",
    "    scaled_X = (X - mean) / std\n",
    "    return scaled_X\n",
    "\n",
    "# Scale the data using the custom standard scaler\n",
    "X_train_scaled = custom_standard_scaler(X_train)\n",
    "X_test_scaled = custom_standard_scaler(X_test)\n"
   ]
  },
  {
   "cell_type": "code",
   "execution_count": null,
   "id": "88a47b9d",
   "metadata": {},
   "outputs": [],
   "source": [
    "# Determine the K value and create a visualization of the accuracy\n",
    "k_values = range(1, 21)\n",
    "accuracy_scores = []\n",
    "\n",
    "for k in k_values:\n",
    "    knn = KNeighborsClassifier(n_neighbors=k)\n",
    "    scores = cross_val_score(knn, X_train_scaled, y_train, cv=5, scoring='accuracy')\n",
    "    accuracy_scores.append(np.mean(scores))\n",
    "\n",
    "# Report the best K value\n",
    "best_k = k_values[np.argmax(accuracy_scores)]\n",
    "print(f\"The best K value is: {best_k}\")"
   ]
  },
  {
   "cell_type": "code",
   "execution_count": null,
   "id": "f0fed931",
   "metadata": {},
   "outputs": [],
   "source": []
  },
  {
   "cell_type": "code",
   "execution_count": null,
   "id": "f135404d",
   "metadata": {},
   "outputs": [],
   "source": [
    "# Create a visualization of the accuracy\n",
    "plt.plot(k_values, accuracy_scores, marker='o')\n",
    "plt.xlabel('K Value')\n",
    "plt.ylabel('Accuracy')\n",
    "plt.title('Accuracy vs. K Value')\n",
    "plt.show()"
   ]
  },
  {
   "cell_type": "code",
   "execution_count": null,
   "id": "e0ed354f",
   "metadata": {},
   "outputs": [],
   "source": [
    "\n",
    "import pandas as pd\n",
    "\n",
    "# Assuming df is your DataFrame\n",
    "columns_to_fill = ['age', 'fare']\n",
    "\n",
    "# Replace null values with mean for specific columns\n",
    "X_train_scaled[columns_to_fill] = X_train_scaled[columns_to_fill].fillna(X_train_scaled[columns_to_fill].mean())\n",
    "\n",
    "# Display the DataFrame with null values replaced by mean in specified columns\n",
    "print(X_train_scaled)\n",
    "\n",
    "\n",
    "X_train_scaled\n"
   ]
  },
  {
   "cell_type": "code",
   "execution_count": null,
   "id": "5f00323c",
   "metadata": {},
   "outputs": [],
   "source": [
    "# Train the final model with the best K value\n",
    "final_knn_model = KNeighborsClassifier(n_neighbors=best_k)\n",
    "final_knn_model.fit(X_train_scaled, y_train)"
   ]
  },
  {
   "cell_type": "code",
   "execution_count": null,
   "id": "a4dc43bf",
   "metadata": {},
   "outputs": [],
   "source": [
    "# Assuming df is your DataFrame\n",
    "columns_to_fill = ['age', 'fare']\n",
    "\n",
    "# Replace null values with mean for specific columns\n",
    "X_test_scaled[columns_to_fill] = X_test_scaled[columns_to_fill].fillna(X_test_scaled[columns_to_fill].mean())\n",
    "\n",
    "# Display the DataFrame with null values replaced by mean in specified columns\n",
    "print(X_test_scaled)\n",
    "\n",
    "\n",
    "X_test_scaled\n"
   ]
  },
  {
   "cell_type": "code",
   "execution_count": null,
   "id": "3c29c217",
   "metadata": {},
   "outputs": [],
   "source": [
    "# Evaluate using confusion matrix on the test set\n",
    "y_pred = final_knn_model.predict(X_test_scaled)\n",
    "cm = confusion_matrix(y_test, y_pred)\n",
    "print(\"Confusion Matrix:\")\n",
    "print(cm)"
   ]
  },
  {
   "cell_type": "code",
   "execution_count": null,
   "id": "6f57737c",
   "metadata": {},
   "outputs": [],
   "source": []
  },
  {
   "cell_type": "code",
   "execution_count": null,
   "id": "215e6d52",
   "metadata": {},
   "outputs": [],
   "source": []
  },
  {
   "cell_type": "code",
   "execution_count": null,
   "id": "7f1b2cdb",
   "metadata": {},
   "outputs": [],
   "source": []
  },
  {
   "cell_type": "code",
   "execution_count": null,
   "id": "3f1f18eb",
   "metadata": {},
   "outputs": [],
   "source": []
  },
  {
   "cell_type": "code",
   "execution_count": null,
   "id": "3fbfde34",
   "metadata": {},
   "outputs": [],
   "source": []
  }
 ],
 "metadata": {
  "kernelspec": {
   "display_name": "Python 3 (ipykernel)",
   "language": "python",
   "name": "python3"
  },
  "language_info": {
   "codemirror_mode": {
    "name": "ipython",
    "version": 3
   },
   "file_extension": ".py",
   "mimetype": "text/x-python",
   "name": "python",
   "nbconvert_exporter": "python",
   "pygments_lexer": "ipython3",
   "version": "3.9.12"
  }
 },
 "nbformat": 4,
 "nbformat_minor": 5
}
